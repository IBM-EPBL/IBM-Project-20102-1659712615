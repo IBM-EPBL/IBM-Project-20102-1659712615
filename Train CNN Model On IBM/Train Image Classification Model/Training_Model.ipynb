{
 "cells": [
  {
   "cell_type": "markdown",
   "id": "191de95d",
   "metadata": {},
   "source": [
    "# Model Generation and Training"
   ]
  },
  {
   "cell_type": "markdown",
   "id": "1d4ea0a3",
   "metadata": {},
   "source": [
    "# Data Generation"
   ]
  },
  {
   "cell_type": "code",
   "execution_count": 45,
   "id": "50a2f63d",
   "metadata": {},
   "outputs": [],
   "source": [
    "from tensorflow.keras.preprocessing.image import ImageDataGenerator"
   ]
  },
  {
   "cell_type": "code",
   "execution_count": 46,
   "id": "a3346463",
   "metadata": {},
   "outputs": [],
   "source": [
    "train_dg = ImageDataGenerator(rescale=1/255,zoom_range=0.2,horizontal_flip=True,vertical_flip=False)\n",
    "test_dg = ImageDataGenerator(rescale=1/255)"
   ]
  },
  {
   "cell_type": "code",
   "execution_count": 47,
   "id": "eb780859",
   "metadata": {},
   "outputs": [
    {
     "name": "stdout",
     "output_type": "stream",
     "text": [
      "Found 15750 images belonging to 9 classes.\n",
      "Found 2250 images belonging to 9 classes.\n"
     ]
    }
   ],
   "source": [
    "x_train=train_dg.flow_from_directory(r'C:\\Users\\msrin\\PycharmProjects\\Project1\\Dataset\\training_set',target_size=(64,64), class_mode='categorical',batch_size=900)\n",
    "x_test=test_dg.flow_from_directory(r'C:\\Users\\msrin\\PycharmProjects\\Project1\\Dataset\\test_set',target_size=(64,64), class_mode='categorical',batch_size=900)"
   ]
  },
  {
   "cell_type": "code",
   "execution_count": 48,
   "id": "a9a06c11",
   "metadata": {},
   "outputs": [
    {
     "name": "stdout",
     "output_type": "stream",
     "text": [
      "Length of x-train :  18\n",
      "Length of x-test :  3\n"
     ]
    }
   ],
   "source": [
    "print(\"Length of x-train : \", len(x_train))\n",
    "print(\"Length of x-test : \", len(x_test))"
   ]
  },
  {
   "cell_type": "code",
   "execution_count": 49,
   "id": "62d98fab",
   "metadata": {},
   "outputs": [
    {
     "name": "stdout",
     "output_type": "stream",
     "text": [
      "Labels :  {'A': 0, 'B': 1, 'C': 2, 'D': 3, 'E': 4, 'F': 5, 'G': 6, 'H': 7, 'I': 8}\n"
     ]
    }
   ],
   "source": [
    "print(\"Labels : \", x_train.class_indices)"
   ]
  },
  {
   "cell_type": "markdown",
   "id": "3f2add50",
   "metadata": {},
   "source": [
    "## Adding Layers to the Model"
   ]
  },
  {
   "cell_type": "code",
   "execution_count": 50,
   "id": "54e80d0d",
   "metadata": {},
   "outputs": [],
   "source": [
    "from tensorflow.keras.models import Sequential\n",
    "from tensorflow.keras.layers import Convolution2D,MaxPooling2D,Flatten,Dense"
   ]
  },
  {
   "cell_type": "code",
   "execution_count": 51,
   "id": "5dc850e8",
   "metadata": {},
   "outputs": [],
   "source": [
    "model=Sequential()"
   ]
  },
  {
   "cell_type": "code",
   "execution_count": 52,
   "id": "8be727d2",
   "metadata": {},
   "outputs": [],
   "source": [
    "model.add(Convolution2D(32,(3,3),activation='relu',input_shape=(64,64,3)))\n",
    "model.add(MaxPooling2D(pool_size=(2,2)))\n",
    "model.add(Flatten())\n",
    "model.add(Dense(300,activation='relu'))\n",
    "model.add(Dense(150,activation='relu'))\n",
    "model.add(Dense(9,activation='softmax'))"
   ]
  },
  {
   "cell_type": "markdown",
   "id": "f81d269c",
   "metadata": {},
   "source": [
    "### Compile the Model"
   ]
  },
  {
   "cell_type": "code",
   "execution_count": 53,
   "id": "8ea5f17c",
   "metadata": {},
   "outputs": [],
   "source": [
    "model.compile(loss='categorical_crossentropy',optimizer='adam',metrics=['accuracy'])"
   ]
  },
  {
   "cell_type": "markdown",
   "id": "1eef4b1f",
   "metadata": {},
   "source": [
    "### Train the Model"
   ]
  },
  {
   "cell_type": "code",
   "execution_count": 54,
   "id": "dec0a209",
   "metadata": {},
   "outputs": [
    {
     "name": "stdout",
     "output_type": "stream",
     "text": [
      "Epoch 1/12\n",
      "15/15 [==============================] - ETA: 0s - loss: 1.2357 - accuracy: 0.5801WARNING:tensorflow:5 out of the last 40 calls to <function Model.make_test_function.<locals>.test_function at 0x0000028A199139D8> triggered tf.function retracing. Tracing is expensive and the excessive number of tracings could be due to (1) creating @tf.function repeatedly in a loop, (2) passing tensors with different shapes, (3) passing Python objects instead of tensors. For (1), please define your @tf.function outside of the loop. For (2), @tf.function has experimental_relax_shapes=True option that relaxes argument shapes that can avoid unnecessary retracing. For (3), please refer to https://www.tensorflow.org/guide/function#controlling_retracing and https://www.tensorflow.org/api_docs/python/tf/function for  more details.\n",
      "15/15 [==============================] - 36s 2s/step - loss: 1.2357 - accuracy: 0.5801 - val_loss: 0.4819 - val_accuracy: 0.8707\n",
      "Epoch 2/12\n",
      "15/15 [==============================] - 34s 2s/step - loss: 0.3160 - accuracy: 0.9057 - val_loss: 0.2853 - val_accuracy: 0.9329\n",
      "Epoch 3/12\n",
      "15/15 [==============================] - 31s 2s/step - loss: 0.1370 - accuracy: 0.9595 - val_loss: 0.2695 - val_accuracy: 0.9516\n",
      "Epoch 4/12\n",
      "15/15 [==============================] - 27s 2s/step - loss: 0.0745 - accuracy: 0.9789 - val_loss: 0.2633 - val_accuracy: 0.9644\n",
      "Epoch 5/12\n",
      "15/15 [==============================] - 33s 2s/step - loss: 0.0469 - accuracy: 0.9889 - val_loss: 0.2702 - val_accuracy: 0.9684\n",
      "Epoch 6/12\n",
      "15/15 [==============================] - 34s 2s/step - loss: 0.0326 - accuracy: 0.9918 - val_loss: 0.2624 - val_accuracy: 0.9702\n",
      "Epoch 7/12\n",
      "15/15 [==============================] - 35s 2s/step - loss: 0.0256 - accuracy: 0.9941 - val_loss: 0.2769 - val_accuracy: 0.9684\n",
      "Epoch 8/12\n",
      "15/15 [==============================] - 35s 2s/step - loss: 0.0188 - accuracy: 0.9956 - val_loss: 0.2608 - val_accuracy: 0.9756\n",
      "Epoch 9/12\n",
      "15/15 [==============================] - 35s 2s/step - loss: 0.0143 - accuracy: 0.9969 - val_loss: 0.2652 - val_accuracy: 0.9764\n",
      "Epoch 10/12\n",
      "15/15 [==============================] - 34s 2s/step - loss: 0.0116 - accuracy: 0.9977 - val_loss: 0.2694 - val_accuracy: 0.9764\n",
      "Epoch 11/12\n",
      "15/15 [==============================] - 33s 2s/step - loss: 0.0083 - accuracy: 0.9987 - val_loss: 0.2851 - val_accuracy: 0.9760\n",
      "Epoch 12/12\n",
      "15/15 [==============================] - 34s 2s/step - loss: 0.0076 - accuracy: 0.9985 - val_loss: 0.2631 - val_accuracy: 0.9764\n"
     ]
    },
    {
     "data": {
      "text/plain": [
       "<keras.callbacks.History at 0x28a29921848>"
      ]
     },
     "execution_count": 54,
     "metadata": {},
     "output_type": "execute_result"
    }
   ],
   "source": [
    "model.fit(x_train,steps_per_epoch=15,epochs=12,validation_data=x_test,validation_steps=len(x_test))"
   ]
  },
  {
   "cell_type": "markdown",
   "id": "d88bc5c3",
   "metadata": {},
   "source": [
    "### Save the Trained Model"
   ]
  },
  {
   "cell_type": "code",
   "execution_count": 55,
   "id": "3921ed01",
   "metadata": {},
   "outputs": [],
   "source": [
    "model.save('trained_model.h5')"
   ]
  }
 ],
 "metadata": {
  "kernelspec": {
   "display_name": "Python 3.7.13 ('base')",
   "language": "python",
   "name": "python3"
  },
  "language_info": {
   "codemirror_mode": {
    "name": "ipython",
    "version": 3
   },
   "file_extension": ".py",
   "mimetype": "text/x-python",
   "name": "python",
   "nbconvert_exporter": "python",
   "pygments_lexer": "ipython3",
   "version": "3.7.13"
  },
  "vscode": {
   "interpreter": {
    "hash": "ab38c4dac1077a98d38b295fd9d0218868c1d6ed0ac17d2a3f8a10d22df391b2"
   }
  }
 },
 "nbformat": 4,
 "nbformat_minor": 5
}
